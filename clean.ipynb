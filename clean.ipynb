{
 "cells": [
  {
   "cell_type": "code",
   "execution_count": 1,
   "metadata": {},
   "outputs": [],
   "source": [
    "from pycaret.classification import *"
   ]
  },
  {
   "cell_type": "code",
   "execution_count": 4,
   "metadata": {},
   "outputs": [
    {
     "name": "stdout",
     "output_type": "stream",
     "text": [
      "Transformation Pipeline and Model Successfully Loaded\n"
     ]
    }
   ],
   "source": [
    "model = load_model('model/model_top_no_STILL_STUDENT_2Class')"
   ]
  },
  {
   "cell_type": "code",
   "execution_count": 5,
   "metadata": {},
   "outputs": [
    {
     "data": {
      "text/plain": [
       "['STUDENT_ID',\n",
       " 'ADMIT_YEAR',\n",
       " 'MAJOR_ID',\n",
       " 'DEPT_ID',\n",
       " 'DEGREE_ID',\n",
       " 'STUD_BIRTH_PROVINCE_ID',\n",
       " 'INSTITUTION_PROVINCE_ID',\n",
       " 'ENG_SCORE',\n",
       " 'CAMPUS_ID',\n",
       " 'IS_GRAD_IN_COURSE',\n",
       " 'เกรดปี1เทอม1',\n",
       " 'เกรดปี1เทอม2',\n",
       " 'เกรดปี2เทอม1',\n",
       " 'เกรดปี2เทอม2',\n",
       " 'เกรดปี3เทอม1',\n",
       " 'เกรดปี3เทอม2',\n",
       " 'เกรดปี4เทอม1',\n",
       " 'เกรดปี4เทอม2',\n",
       " 'GPA_SCHOOL',\n",
       " 'STUDY_STATUS']"
      ]
     },
     "execution_count": 5,
     "metadata": {},
     "output_type": "execute_result"
    }
   ],
   "source": [
    "model.feature_names_in_"
   ]
  },
  {
   "cell_type": "code",
   "execution_count": null,
   "metadata": {},
   "outputs": [],
   "source": []
  }
 ],
 "metadata": {
  "kernelspec": {
   "display_name": "venv",
   "language": "python",
   "name": "python3"
  },
  "language_info": {
   "codemirror_mode": {
    "name": "ipython",
    "version": 3
   },
   "file_extension": ".py",
   "mimetype": "text/x-python",
   "name": "python",
   "nbconvert_exporter": "python",
   "pygments_lexer": "ipython3",
   "version": "3.10.9"
  },
  "orig_nbformat": 4,
  "vscode": {
   "interpreter": {
    "hash": "b6d2915c0fcfa4f663dcf588abd79979d506300280025b63d35f5871f580e933"
   }
  }
 },
 "nbformat": 4,
 "nbformat_minor": 2
}
