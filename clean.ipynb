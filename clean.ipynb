{
 "cells": [
  {
   "cell_type": "code",
   "execution_count": 115,
   "metadata": {},
   "outputs": [],
   "source": [
    "import pandas\n",
    "from pycaret.classification import *"
   ]
  },
  {
   "cell_type": "code",
   "execution_count": 116,
   "metadata": {},
   "outputs": [
    {
     "name": "stdout",
     "output_type": "stream",
     "text": [
      "Transformation Pipeline and Model Successfully Loaded\n"
     ]
    }
   ],
   "source": [
    "model = load_model('model/model_top_no_STILL_STUDENT_2Class_map_E_to_R_last_final')"
   ]
  },
  {
   "cell_type": "code",
   "execution_count": 117,
   "metadata": {},
   "outputs": [
    {
     "data": {
      "text/plain": [
       "['MAJOR_ID',\n",
       " 'DEPT_ID',\n",
       " 'DEGREE_ID',\n",
       " 'STUD_BIRTH_PROVINCE_ID',\n",
       " 'INSTITUTION_PROVINCE_ID',\n",
       " 'ENG_SCORE',\n",
       " 'CAMPUS_ID',\n",
       " 'เกรดปี1เทอม1',\n",
       " 'เกรดปี1เทอม2',\n",
       " 'เกรดปี2เทอม1',\n",
       " 'เกรดปี2เทอม2',\n",
       " 'เกรดปี3เทอม1',\n",
       " 'เกรดปี3เทอม2',\n",
       " 'เกรดปี4เทอม1',\n",
       " 'เกรดปี4เทอม2',\n",
       " 'STUDY_STATUS_map']"
      ]
     },
     "execution_count": 117,
     "metadata": {},
     "output_type": "execute_result"
    }
   ],
   "source": [
    "model.feature_names_in_"
   ]
  },
  {
   "cell_type": "code",
   "execution_count": 118,
   "metadata": {},
   "outputs": [
    {
     "data": {
      "text/html": [
       "<div>\n",
       "<style scoped>\n",
       "    .dataframe tbody tr th:only-of-type {\n",
       "        vertical-align: middle;\n",
       "    }\n",
       "\n",
       "    .dataframe tbody tr th {\n",
       "        vertical-align: top;\n",
       "    }\n",
       "\n",
       "    .dataframe thead th {\n",
       "        text-align: right;\n",
       "    }\n",
       "</style>\n",
       "<table border=\"1\" class=\"dataframe\">\n",
       "  <thead>\n",
       "    <tr style=\"text-align: right;\">\n",
       "      <th></th>\n",
       "      <th>MAJOR_ID</th>\n",
       "      <th>DEPT_ID</th>\n",
       "      <th>DEGREE_ID</th>\n",
       "      <th>STUD_BIRTH_PROVINCE_ID</th>\n",
       "      <th>INSTITUTION_PROVINCE_ID</th>\n",
       "      <th>ENG_SCORE</th>\n",
       "      <th>CAMPUS_ID</th>\n",
       "      <th>เกรดปี1เทอม1</th>\n",
       "      <th>เกรดปี1เทอม2</th>\n",
       "      <th>เกรดปี2เทอม1</th>\n",
       "      <th>เกรดปี2เทอม2</th>\n",
       "      <th>เกรดปี3เทอม1</th>\n",
       "      <th>เกรดปี3เทอม2</th>\n",
       "      <th>เกรดปี4เทอม1</th>\n",
       "      <th>เกรดปี4เทอม2</th>\n",
       "    </tr>\n",
       "  </thead>\n",
       "  <tbody>\n",
       "    <tr>\n",
       "      <th>0</th>\n",
       "      <td>0215</td>\n",
       "      <td>030</td>\n",
       "      <td>218</td>\n",
       "      <td>53</td>\n",
       "      <td>62</td>\n",
       "      <td>41.0</td>\n",
       "      <td>01</td>\n",
       "      <td>0</td>\n",
       "      <td>0</td>\n",
       "      <td>0</td>\n",
       "      <td>0</td>\n",
       "      <td>0</td>\n",
       "      <td>0</td>\n",
       "      <td>0</td>\n",
       "      <td>0</td>\n",
       "    </tr>\n",
       "  </tbody>\n",
       "</table>\n",
       "</div>"
      ],
      "text/plain": [
       "  MAJOR_ID DEPT_ID DEGREE_ID STUD_BIRTH_PROVINCE_ID INSTITUTION_PROVINCE_ID  \\\n",
       "0     0215     030       218                     53                      62   \n",
       "\n",
       "   ENG_SCORE CAMPUS_ID เกรดปี1เทอม1 เกรดปี1เทอม2 เกรดปี2เทอม1 เกรดปี2เทอม2  \\\n",
       "0       41.0        01            0            0            0            0   \n",
       "\n",
       "  เกรดปี3เทอม1 เกรดปี3เทอม2 เกรดปี4เทอม1 เกรดปี4เทอม2  \n",
       "0            0            0            0            0  "
      ]
     },
     "execution_count": 118,
     "metadata": {},
     "output_type": "execute_result"
    }
   ],
   "source": [
    "\n",
    "data = ['0215', '030', '218', '53', '62', 41.00, '01', 0, 0, 0, 0, 0, 0, 0, 0]\n",
    "x = dict()\n",
    "n = 0\n",
    "for i in model.feature_names_in_[:-1]:\n",
    "    x[i] = data[n]\n",
    "    n+= 1\n",
    "df = pandas.DataFrame(columns=model.feature_names_in_[:-1])\n",
    "df = df.append(x, ignore_index=True)\n",
    "df\n",
    "# model.predict(df)"
   ]
  },
  {
   "cell_type": "code",
   "execution_count": 119,
   "metadata": {},
   "outputs": [
    {
     "name": "stdout",
     "output_type": "stream",
     "text": [
      "<built-in function len>\n"
     ]
    },
    {
     "data": {
      "text/html": [
       "<div>\n",
       "<style scoped>\n",
       "    .dataframe tbody tr th:only-of-type {\n",
       "        vertical-align: middle;\n",
       "    }\n",
       "\n",
       "    .dataframe tbody tr th {\n",
       "        vertical-align: top;\n",
       "    }\n",
       "\n",
       "    .dataframe thead th {\n",
       "        text-align: right;\n",
       "    }\n",
       "</style>\n",
       "<table border=\"1\" class=\"dataframe\">\n",
       "  <thead>\n",
       "    <tr style=\"text-align: right;\">\n",
       "      <th></th>\n",
       "      <th>MAJOR_ID</th>\n",
       "      <th>DEPT_ID</th>\n",
       "      <th>DEGREE_ID</th>\n",
       "      <th>STUD_BIRTH_PROVINCE_ID</th>\n",
       "      <th>INSTITUTION_PROVINCE_ID</th>\n",
       "      <th>ENG_SCORE</th>\n",
       "      <th>CAMPUS_ID</th>\n",
       "      <th>เกรดปี1เทอม1</th>\n",
       "      <th>เกรดปี1เทอม2</th>\n",
       "      <th>เกรดปี2เทอม1</th>\n",
       "      <th>เกรดปี2เทอม2</th>\n",
       "      <th>เกรดปี3เทอม1</th>\n",
       "      <th>เกรดปี3เทอม2</th>\n",
       "      <th>เกรดปี4เทอม1</th>\n",
       "      <th>เกรดปี4เทอม2</th>\n",
       "    </tr>\n",
       "  </thead>\n",
       "  <tbody>\n",
       "    <tr>\n",
       "      <th>0</th>\n",
       "      <td>ตรัง</td>\n",
       "      <td>ตรัง</td>\n",
       "      <td>14</td>\n",
       "      <td>3.2</td>\n",
       "      <td>วิทยาเขตหาดใหญ่</td>\n",
       "      <td>วิศวกรรมอุตสาหการ</td>\n",
       "      <td>ภาควิชาวิศวกรรมอุตสาหการ</td>\n",
       "      <td>0</td>\n",
       "      <td>ยังไม่มี</td>\n",
       "      <td>ยังไม่มี</td>\n",
       "      <td>ยังไม่มี</td>\n",
       "      <td>ยังไม่มี</td>\n",
       "      <td>ยังไม่มี</td>\n",
       "      <td>ยังไม่มี</td>\n",
       "      <td>ยังไม่มี</td>\n",
       "    </tr>\n",
       "  </tbody>\n",
       "</table>\n",
       "</div>"
      ],
      "text/plain": [
       "  MAJOR_ID DEPT_ID  DEGREE_ID  STUD_BIRTH_PROVINCE_ID INSTITUTION_PROVINCE_ID  \\\n",
       "0     ตรัง    ตรัง         14                     3.2         วิทยาเขตหาดใหญ่   \n",
       "\n",
       "           ENG_SCORE                 CAMPUS_ID  เกรดปี1เทอม1 เกรดปี1เทอม2  \\\n",
       "0  วิศวกรรมอุตสาหการ  ภาควิชาวิศวกรรมอุตสาหการ             0     ยังไม่มี   \n",
       "\n",
       "  เกรดปี2เทอม1 เกรดปี2เทอม2 เกรดปี3เทอม1 เกรดปี3เทอม2 เกรดปี4เทอม1  \\\n",
       "0     ยังไม่มี     ยังไม่มี     ยังไม่มี     ยังไม่มี     ยังไม่มี   \n",
       "\n",
       "  เกรดปี4เทอม2  \n",
       "0     ยังไม่มี  "
      ]
     },
     "execution_count": 119,
     "metadata": {},
     "output_type": "execute_result"
    }
   ],
   "source": [
    "data = ['ตรัง', 'ตรัง', 14, 3.2, 'วิทยาเขตหาดใหญ่', 'วิศวกรรมอุตสาหการ', 'ภาควิชาวิศวกรรมอุตสาหการ', 0, 'ยังไม่มี', 'ยังไม่มี', 'ยังไม่มี', 'ยังไม่มี', 'ยังไม่มี', 'ยังไม่มี', 'ยังไม่มี']\n",
    "print(len)\n",
    "pandas.DataFrame([data],columns=model.feature_names_in_[:-1])"
   ]
  },
  {
   "cell_type": "code",
   "execution_count": 120,
   "metadata": {},
   "outputs": [
    {
     "data": {
      "text/plain": [
       "['MAJOR_ID',\n",
       " 'DEPT_ID',\n",
       " 'DEGREE_ID',\n",
       " 'STUD_BIRTH_PROVINCE_ID',\n",
       " 'INSTITUTION_PROVINCE_ID',\n",
       " 'ENG_SCORE',\n",
       " 'CAMPUS_ID',\n",
       " 'เกรดปี1เทอม1',\n",
       " 'เกรดปี1เทอม2',\n",
       " 'เกรดปี2เทอม1',\n",
       " 'เกรดปี2เทอม2',\n",
       " 'เกรดปี3เทอม1',\n",
       " 'เกรดปี3เทอม2',\n",
       " 'เกรดปี4เทอม1',\n",
       " 'เกรดปี4เทอม2']"
      ]
     },
     "execution_count": 120,
     "metadata": {},
     "output_type": "execute_result"
    }
   ],
   "source": [
    "model.feature_names_in_[:-1]"
   ]
  }
 ],
 "metadata": {
  "kernelspec": {
   "display_name": "venv",
   "language": "python",
   "name": "python3"
  },
  "language_info": {
   "codemirror_mode": {
    "name": "ipython",
    "version": 3
   },
   "file_extension": ".py",
   "mimetype": "text/x-python",
   "name": "python",
   "nbconvert_exporter": "python",
   "pygments_lexer": "ipython3",
   "version": "3.10.9"
  },
  "orig_nbformat": 4,
  "vscode": {
   "interpreter": {
    "hash": "b6d2915c0fcfa4f663dcf588abd79979d506300280025b63d35f5871f580e933"
   }
  }
 },
 "nbformat": 4,
 "nbformat_minor": 2
}
