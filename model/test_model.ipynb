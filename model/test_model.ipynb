{
 "cells": [
  {
   "cell_type": "code",
   "execution_count": null,
   "metadata": {},
   "outputs": [],
   "source": [
    "import pandas as pd\n",
    "from pycaret.classification import *\n",
    "from sklearn.metrics import confusion_matrix"
   ]
  },
  {
   "cell_type": "code",
   "execution_count": null,
   "metadata": {},
   "outputs": [],
   "source": [
    "models = load_model('model_top_no_STILL_STUDENT_2Class_map_E_to_R_drop_IS_GRAD_IN_COURSE_drop_YEAR')"
   ]
  },
  {
   "cell_type": "code",
   "execution_count": null,
   "metadata": {},
   "outputs": [],
   "source": [
    "clean_data = pd.read_csv('../data/data_dropout_59-64(clean).csv')"
   ]
  },
  {
   "cell_type": "code",
   "execution_count": null,
   "metadata": {},
   "outputs": [],
   "source": [
    "data_va = pd.read_csv('../data/data_dropout_59-64.csv')"
   ]
  },
  {
   "cell_type": "code",
   "execution_count": null,
   "metadata": {},
   "outputs": [],
   "source": [
    "data_va_2561 = data_va[data_va['ADMIT_YEAR'] == 2561]"
   ]
  },
  {
   "cell_type": "code",
   "execution_count": null,
   "metadata": {},
   "outputs": [],
   "source": [
    "data_va_2561"
   ]
  },
  {
   "cell_type": "code",
   "execution_count": null,
   "metadata": {},
   "outputs": [],
   "source": [
    "data_va_2561[(data_va_2561['STUDY_STATUS'] == 'E') | (data_va_2561['STUDY_STATUS'] == 'R') ]"
   ]
  },
  {
   "cell_type": "code",
   "execution_count": null,
   "metadata": {},
   "outputs": [],
   "source": [
    "65 / 619 * 100"
   ]
  },
  {
   "cell_type": "code",
   "execution_count": null,
   "metadata": {},
   "outputs": [],
   "source": [
    "test_ok = clean_data[clean_data['STUDY_STATUS'] == 'OK']"
   ]
  },
  {
   "cell_type": "code",
   "execution_count": null,
   "metadata": {},
   "outputs": [],
   "source": [
    "test_ok['INSTITUTION_PROVINCE_ID'].unique()"
   ]
  },
  {
   "cell_type": "code",
   "execution_count": null,
   "metadata": {},
   "outputs": [],
   "source": [
    "test_ok = test_ok[test_ok['INSTITUTION_PROVINCE_ID'] != 'XX']"
   ]
  },
  {
   "cell_type": "code",
   "execution_count": null,
   "metadata": {},
   "outputs": [],
   "source": [
    "test_ok_2563 = test_ok[test_ok['ADMIT_YEAR'] == 2563]"
   ]
  },
  {
   "cell_type": "code",
   "execution_count": null,
   "metadata": {},
   "outputs": [],
   "source": [
    "test_ok_2563"
   ]
  },
  {
   "cell_type": "code",
   "execution_count": null,
   "metadata": {},
   "outputs": [],
   "source": [
    "((test_ok_2563.iloc[0:1]['เกรดปี1เทอม1'] + test_ok_2563.iloc[0:1]['เกรดปี1เทอม2'] + test_ok_2563.iloc[0:1]['เกรดปี2เทอม1']) / 3).iloc[0]"
   ]
  },
  {
   "cell_type": "code",
   "execution_count": null,
   "metadata": {},
   "outputs": [],
   "source": [
    "test_data_0 = test_ok_2563.iloc[0:1].replace(0,((test_ok_2563.iloc[0:1]['เกรดปี1เทอม1'] + test_ok_2563.iloc[0:1]['เกรดปี1เทอม2'] + test_ok_2563.iloc[0:1]['เกรดปี2เทอม1']) / 3).iloc[0])"
   ]
  },
  {
   "cell_type": "code",
   "execution_count": null,
   "metadata": {},
   "outputs": [],
   "source": [
    "test_data_0"
   ]
  },
  {
   "cell_type": "code",
   "execution_count": null,
   "metadata": {},
   "outputs": [],
   "source": [
    "for i in range(int(test_ok_2563.iloc[1:].size / 29)):\n",
    "    test_data_1 = test_ok_2563.iloc[1+i:2+i].replace(0,((test_ok_2563.iloc[1+i:2+i]['เกรดปี1เทอม1'] + test_ok_2563.iloc[1+i:2+i]['เกรดปี1เทอม2'] + test_ok_2563.iloc[1+i:2+i]['เกรดปี2เทอม1']) / 3).iloc[0])\n",
    "    test_data_0 = pd.concat([test_data_0,test_data_1])"
   ]
  },
  {
   "cell_type": "code",
   "execution_count": null,
   "metadata": {},
   "outputs": [],
   "source": [
    "test_data_0"
   ]
  },
  {
   "cell_type": "code",
   "execution_count": null,
   "metadata": {},
   "outputs": [],
   "source": [
    "prediction = predict_model(models,data=test_data_0)"
   ]
  },
  {
   "cell_type": "code",
   "execution_count": null,
   "metadata": {},
   "outputs": [],
   "source": [
    "prediction[prediction['prediction_label'] == 'R']"
   ]
  },
  {
   "cell_type": "code",
   "execution_count": null,
   "metadata": {},
   "outputs": [],
   "source": [
    "46 / 579 * 100"
   ]
  },
  {
   "cell_type": "code",
   "execution_count": null,
   "metadata": {},
   "outputs": [],
   "source": [
    "models = load_model('model_top_no_STILL_STUDENT_2Class_map_E_to_R_drop_IS_GRAD_IN_COURSE_drop_YEAR_feature')"
   ]
  },
  {
   "cell_type": "code",
   "execution_count": null,
   "metadata": {},
   "outputs": [],
   "source": [
    "prediction = predict_model(models,data = test_data_0)"
   ]
  },
  {
   "cell_type": "code",
   "execution_count": null,
   "metadata": {},
   "outputs": [],
   "source": [
    "prediction[prediction['prediction_label'] == 'G']"
   ]
  },
  {
   "cell_type": "code",
   "execution_count": null,
   "metadata": {},
   "outputs": [],
   "source": [
    "131 / (131+448) * 100"
   ]
  },
  {
   "cell_type": "code",
   "execution_count": null,
   "metadata": {},
   "outputs": [],
   "source": [
    "test = pd.read_csv('../data/feature_extraction_data/data_dropout_59-64(final_model_GRE_map_E_to_R_fex_test).csv')"
   ]
  },
  {
   "cell_type": "code",
   "execution_count": null,
   "metadata": {},
   "outputs": [],
   "source": [
    "test"
   ]
  },
  {
   "cell_type": "code",
   "execution_count": null,
   "metadata": {},
   "outputs": [],
   "source": [
    "prediction = predict_model(models,data=test)"
   ]
  },
  {
   "cell_type": "code",
   "execution_count": null,
   "metadata": {},
   "outputs": [],
   "source": [
    "con = confusion_matrix(y_true=prediction['STUDY_STATUS_map'],y_pred=prediction['prediction_label'])"
   ]
  },
  {
   "cell_type": "code",
   "execution_count": null,
   "metadata": {},
   "outputs": [],
   "source": [
    "con"
   ]
  },
  {
   "cell_type": "code",
   "execution_count": null,
   "metadata": {},
   "outputs": [],
   "source": [
    "prediction[(prediction['STUDY_STATUS'] == 'E') & (prediction['prediction_label'] == 'G')].count()"
   ]
  },
  {
   "cell_type": "code",
   "execution_count": null,
   "metadata": {},
   "outputs": [],
   "source": [
    "66 / (66 + 26) * 100"
   ]
  },
  {
   "cell_type": "code",
   "execution_count": null,
   "metadata": {},
   "outputs": [],
   "source": [
    "# drop_IS_GRAD_IN_COURSE_drop_YEAR\n",
    "print('drop_IS_GRAD_IN_COURSE_drop_YEAR')\n",
    "print('all     =>',294/357*100,'%')\n",
    "print('rt      =>',42/54*100,'%')\n",
    "print('et      =>',66/92*100,'%')\n",
    "print('et + rt =>',108/146*100,'%')\n",
    "print('gt      =>',186/211*100,'%')\n"
   ]
  },
  {
   "cell_type": "code",
   "execution_count": null,
   "metadata": {},
   "outputs": [],
   "source": []
  }
 ],
 "metadata": {
  "kernelspec": {
   "display_name": "plotly",
   "language": "python",
   "name": "python3"
  },
  "language_info": {
   "codemirror_mode": {
    "name": "ipython",
    "version": 3
   },
   "file_extension": ".py",
   "mimetype": "text/x-python",
   "name": "python",
   "nbconvert_exporter": "python",
   "pygments_lexer": "ipython3",
   "version": "3.10.6"
  },
  "orig_nbformat": 4,
  "vscode": {
   "interpreter": {
    "hash": "19b2c9f6a741254251acfcd02ad55c6ae81df044c86c9b5500e3cae46084bc29"
   }
  }
 },
 "nbformat": 4,
 "nbformat_minor": 2
}
