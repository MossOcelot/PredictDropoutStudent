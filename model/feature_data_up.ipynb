{
 "cells": [
  {
   "cell_type": "code",
   "execution_count": null,
   "metadata": {},
   "outputs": [],
   "source": [
    "import pandas as pd\n",
    "from pycaret.classification import *\n",
    "from sklearn.metrics import confusion_matrix"
   ]
  },
  {
   "cell_type": "code",
   "execution_count": null,
   "metadata": {},
   "outputs": [],
   "source": [
    "clean_data = pd.read_csv('../data/use/data_dropout_59-64(clean_GER).csv')"
   ]
  },
  {
   "cell_type": "code",
   "execution_count": null,
   "metadata": {},
   "outputs": [],
   "source": [
    "clean_data['STUDY_STATUS_map'] = clean_data['STUDY_STATUS'].replace('E','R')"
   ]
  },
  {
   "cell_type": "code",
   "execution_count": null,
   "metadata": {},
   "outputs": [],
   "source": [
    "clean_data.to_csv('../data/use/use_in/data_dropout_59-64(final_model_GRE_map_E_to_R_keep)',index=False)"
   ]
  },
  {
   "cell_type": "code",
   "execution_count": null,
   "metadata": {},
   "outputs": [],
   "source": [
    "clean_data_ = pd.read_csv('../data/use/use_in/data_dropout_59-64(final_model_GRE_map_E_to_R_keep).csv')"
   ]
  },
  {
   "cell_type": "code",
   "execution_count": null,
   "metadata": {},
   "outputs": [],
   "source": [
    "clean_data_.columns"
   ]
  },
  {
   "cell_type": "code",
   "execution_count": null,
   "metadata": {},
   "outputs": [],
   "source": [
    "clean_data_ = clean_data_.drop(['ADMIT_YEAR','IS_GRAD_IN_COURSE'],axis=1)"
   ]
  },
  {
   "cell_type": "code",
   "execution_count": null,
   "metadata": {},
   "outputs": [],
   "source": [
    "clean_data_.columns"
   ]
  },
  {
   "cell_type": "code",
   "execution_count": null,
   "metadata": {},
   "outputs": [],
   "source": [
    "clean_data_.to_csv('../data/use/use_in/data_dropout_59-64(final_model_GRE_map_E_to_R_keep_use).csv')"
   ]
  },
  {
   "cell_type": "code",
   "execution_count": null,
   "metadata": {},
   "outputs": [],
   "source": [
    "clean_data_[clean_data_['STUDY_STATUS'] == 'E']"
   ]
  },
  {
   "cell_type": "code",
   "execution_count": null,
   "metadata": {},
   "outputs": [],
   "source": [
    "test = clean_data_.sample(n=int(0.3*1190),random_state=10)\n",
    "train = clean_data_.drop(test.index)"
   ]
  },
  {
   "cell_type": "code",
   "execution_count": null,
   "metadata": {},
   "outputs": [],
   "source": [
    "test.to_csv('../data/use/use_in/data_dropout_59-64(final_model_GRE_map_E_to_R_keep_use_test).csv',index=False)\n",
    "train.to_csv('../data/use/use_in/data_dropout_59-64(final_model_GRE_map_E_to_R_keep_use_train).csv',index=False)"
   ]
  },
  {
   "cell_type": "code",
   "execution_count": null,
   "metadata": {},
   "outputs": [],
   "source": [
    "test = pd.read_csv('../data/use/use_in/data_dropout_59-64(final_model_GRE_map_E_to_R_keep_test).csv')\n",
    "train = pd.read_csv('../data/use/use_in/data_dropout_59-64(final_model_GRE_map_E_to_R_keep_train).csv')"
   ]
  },
  {
   "cell_type": "code",
   "execution_count": null,
   "metadata": {},
   "outputs": [],
   "source": [
    "test = pd.read_csv('../data/use/use_in/data_dropout_59-64(final_model_GRE_map_E_to_R_keep_use_test).csv')\n",
    "train = pd.read_csv('../data/use/use_in/data_dropout_59-64(final_model_GRE_map_E_to_R_keep_use_train).csv')"
   ]
  },
  {
   "cell_type": "code",
   "execution_count": null,
   "metadata": {},
   "outputs": [],
   "source": [
    "test = test.drop(['IS_GRAD_IN_COURSE','ADMIT_YEAR'],axis=1)\n",
    "train = train.drop(['IS_GRAD_IN_COURSE','ADMIT_YEAR'],axis=1)"
   ]
  },
  {
   "cell_type": "code",
   "execution_count": null,
   "metadata": {},
   "outputs": [],
   "source": [
    "train"
   ]
  },
  {
   "cell_type": "code",
   "execution_count": null,
   "metadata": {},
   "outputs": [],
   "source": [
    "test"
   ]
  },
  {
   "cell_type": "code",
   "execution_count": null,
   "metadata": {},
   "outputs": [],
   "source": [
    "use_train = train.drop(['STUDY_STATUS'],axis=1)"
   ]
  },
  {
   "cell_type": "code",
   "execution_count": null,
   "metadata": {},
   "outputs": [],
   "source": [
    "use_train.columns"
   ]
  },
  {
   "cell_type": "code",
   "execution_count": null,
   "metadata": {},
   "outputs": [],
   "source": [
    "#n_feature = train.columns.drop(['STUDY_STATUS','STUDY_STATUS_map']).tolist()"
   ]
  },
  {
   "cell_type": "code",
   "execution_count": null,
   "metadata": {},
   "outputs": [],
   "source": [
    "s_drop_IS_GRAD_IN_COURSE_drop_YEAR = setup(use_train,target='STUDY_STATUS_map')"
   ]
  },
  {
   "cell_type": "code",
   "execution_count": null,
   "metadata": {},
   "outputs": [],
   "source": [
    "s = setup(use_train,target='STUDY_STATUS_map')"
   ]
  },
  {
   "cell_type": "code",
   "execution_count": null,
   "metadata": {},
   "outputs": [],
   "source": [
    "models_drop_IS_GRAD_IN_COURSE_drop_YEAR = compare_models()"
   ]
  },
  {
   "cell_type": "code",
   "execution_count": null,
   "metadata": {},
   "outputs": [],
   "source": [
    "models_drop_IS_GRAD_IN_COURSE = compare_models()"
   ]
  },
  {
   "cell_type": "code",
   "execution_count": null,
   "metadata": {},
   "outputs": [],
   "source": [
    "models = compare_models()"
   ]
  },
  {
   "cell_type": "code",
   "execution_count": null,
   "metadata": {},
   "outputs": [],
   "source": [
    "#use_test = test.drop(['STUDY_STATUS'],axis=1)"
   ]
  },
  {
   "cell_type": "code",
   "execution_count": null,
   "metadata": {},
   "outputs": [],
   "source": [
    "#use_test"
   ]
  },
  {
   "cell_type": "code",
   "execution_count": null,
   "metadata": {},
   "outputs": [],
   "source": [
    "predictions_drop_IS_GRAD_IN_COURSE_drop_YEAR = predict_model(models_drop_IS_GRAD_IN_COURSE_drop_YEAR,data=test)"
   ]
  },
  {
   "cell_type": "code",
   "execution_count": null,
   "metadata": {},
   "outputs": [],
   "source": [
    "predictions = predict_model(models,data=test)"
   ]
  },
  {
   "cell_type": "code",
   "execution_count": null,
   "metadata": {},
   "outputs": [],
   "source": [
    "predictions_IS_GRAD_IN_COURSE = predict_model(models_drop_IS_GRAD_IN_COURSE,data=test)"
   ]
  },
  {
   "cell_type": "code",
   "execution_count": null,
   "metadata": {},
   "outputs": [],
   "source": [
    "confusion_drop_IS_GRAD_IN_COURSE_drop_YEAR  = confusion_matrix(y_true=predictions_drop_IS_GRAD_IN_COURSE_drop_YEAR['STUDY_STATUS_map'],y_pred=predictions_drop_IS_GRAD_IN_COURSE_drop_YEAR ['prediction_label'],labels=['R','G'])"
   ]
  },
  {
   "cell_type": "code",
   "execution_count": null,
   "metadata": {},
   "outputs": [],
   "source": [
    "confusion_drop_IS_GRAD_IN_COURSE_drop_YEAR"
   ]
  },
  {
   "cell_type": "code",
   "execution_count": null,
   "metadata": {},
   "outputs": [],
   "source": [
    "conn = confusion_matrix(y_true=predictions_IS_GRAD_IN_COURSE['STUDY_STATUS_map'],y_pred=predictions_IS_GRAD_IN_COURSE['prediction_label'],labels=['R','G'])"
   ]
  },
  {
   "cell_type": "code",
   "execution_count": null,
   "metadata": {},
   "outputs": [],
   "source": [
    "conn"
   ]
  },
  {
   "cell_type": "code",
   "execution_count": null,
   "metadata": {},
   "outputs": [],
   "source": [
    "con = confusion_matrix(y_true=predictions['STUDY_STATUS_map'],y_pred=predictions['prediction_label'],labels=['R','G'])"
   ]
  },
  {
   "cell_type": "code",
   "execution_count": null,
   "metadata": {},
   "outputs": [],
   "source": [
    "con"
   ]
  },
  {
   "cell_type": "code",
   "execution_count": null,
   "metadata": {},
   "outputs": [],
   "source": [
    "print('all =',94.68,'%')\n",
    "print('rt =',50/54*100,'%')\n",
    "print('gt =',204/211*100,'%')"
   ]
  },
  {
   "cell_type": "code",
   "execution_count": null,
   "metadata": {},
   "outputs": [],
   "source": [
    "# drop_IS_GRAD_IN_COURSE\n",
    "print('all     =>',91.60,'%')\n",
    "print('rt      =>',45/54*100,'%')\n",
    "print('et      =>',82/92*100,'%')\n",
    "print('et + rt =>',127/146*100,'%')\n",
    "print('gt      =>',200/211*100,'%')\n"
   ]
  },
  {
   "cell_type": "code",
   "execution_count": null,
   "metadata": {},
   "outputs": [],
   "source": [
    "# drop_IS_GRAD_IN_COURSE_drop_YEAR\n",
    "print('drop_IS_GRAD_IN_COURSE_drop_YEAR')\n",
    "print('all     =>',92.44,'%')\n",
    "print('rt      =>',45/54*100,'%')\n",
    "print('et      =>',81/92*100,'%')\n",
    "print('et + rt =>',126/146*100,'%')\n",
    "print('gt      =>',204/211*100,'%')\n"
   ]
  },
  {
   "cell_type": "code",
   "execution_count": null,
   "metadata": {},
   "outputs": [],
   "source": [
    "#predictionss[(predictionss['STUDY_STATUS'] == 'R') & (predictionss['prediction_label'] == 'G')]"
   ]
  },
  {
   "cell_type": "code",
   "execution_count": null,
   "metadata": {},
   "outputs": [],
   "source": [
    "predictions[(predictions['STUDY_STATUS'] == 'R') & (predictions['prediction_label'] == 'G')]"
   ]
  },
  {
   "cell_type": "code",
   "execution_count": null,
   "metadata": {},
   "outputs": [],
   "source": [
    "predictions[(predictions['STUDY_STATUS'] == 'G') & (predictions['prediction_label'] == 'G')]"
   ]
  },
  {
   "cell_type": "code",
   "execution_count": null,
   "metadata": {},
   "outputs": [],
   "source": [
    "predictions_IS_GRAD_IN_COURSE[(predictions_IS_GRAD_IN_COURSE['STUDY_STATUS'] == 'E') & (predictions_IS_GRAD_IN_COURSE['prediction_label'] == 'R')]"
   ]
  },
  {
   "cell_type": "code",
   "execution_count": null,
   "metadata": {},
   "outputs": [],
   "source": [
    "predictions_drop_IS_GRAD_IN_COURSE_drop_YEAR[(predictions_drop_IS_GRAD_IN_COURSE_drop_YEAR['STUDY_STATUS'] == 'G') & (predictions_drop_IS_GRAD_IN_COURSE_drop_YEAR['prediction_label'] == 'R')]"
   ]
  },
  {
   "cell_type": "code",
   "execution_count": null,
   "metadata": {},
   "outputs": [],
   "source": [
    "save_model(models,'model_top_no_STILL_STUDENT_2Class_map_E_to_R_drop_IS_GRAD_IN_COURSE_drop_YEAR')"
   ]
  },
  {
   "cell_type": "code",
   "execution_count": null,
   "metadata": {},
   "outputs": [],
   "source": []
  }
 ],
 "metadata": {
  "kernelspec": {
   "display_name": "plotly",
   "language": "python",
   "name": "python3"
  },
  "language_info": {
   "codemirror_mode": {
    "name": "ipython",
    "version": 3
   },
   "file_extension": ".py",
   "mimetype": "text/x-python",
   "name": "python",
   "nbconvert_exporter": "python",
   "pygments_lexer": "ipython3",
   "version": "3.10.6"
  },
  "orig_nbformat": 4,
  "vscode": {
   "interpreter": {
    "hash": "19b2c9f6a741254251acfcd02ad55c6ae81df044c86c9b5500e3cae46084bc29"
   }
  }
 },
 "nbformat": 4,
 "nbformat_minor": 2
}
